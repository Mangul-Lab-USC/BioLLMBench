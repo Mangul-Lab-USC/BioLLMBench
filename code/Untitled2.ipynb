{
 "cells": [
  {
   "cell_type": "code",
   "execution_count": 23,
   "id": "0c75307d",
   "metadata": {},
   "outputs": [],
   "source": [
    "#! pip install nltk\n",
    "# ! pip install Rouge"
   ]
  },
  {
   "cell_type": "code",
   "execution_count": 85,
   "id": "960fcd35",
   "metadata": {},
   "outputs": [],
   "source": [
    "import pandas as pd\n",
    "from nltk.translate.bleu_score import sentence_bleu\n",
    "from rouge import Rouge\n",
    "import pandas as pd"
   ]
  },
  {
   "cell_type": "code",
   "execution_count": 86,
   "id": "05519d62",
   "metadata": {},
   "outputs": [
    {
     "name": "stdout",
     "output_type": "stream",
     "text": [
      "Bard.csv\r\n",
      "GPT4.csv\r\n",
      "heart_disease_uci copy.csv\r\n",
      "heart_disease_uci.csv\r\n",
      "llama.csv\r\n",
      "socring_llm-Mathematical_calculations.csv\r\n",
      "socring_llm-coding.csv\r\n",
      "socring_llm-domains_knowledge.csv\r\n",
      "socring_llm-visualiztion.csv\r\n"
     ]
    }
   ],
   "source": [
    "!ls *.csv"
   ]
  },
  {
   "cell_type": "code",
   "execution_count": 87,
   "id": "74cb5aae",
   "metadata": {},
   "outputs": [],
   "source": [
    "df=pd.read_csv('Bard.csv')"
   ]
  },
  {
   "cell_type": "code",
   "execution_count": 88,
   "id": "0df006e1",
   "metadata": {},
   "outputs": [],
   "source": [
    "def bleu_scores(data):\n",
    "    bleu_scores=[]\n",
    "    for _,row in data.iterrows():\n",
    "        reference=row[\"Abstract\"]\n",
    "        candidate=row[\"Task Description\"]\n",
    "        score=sentence_bleu([reference.split()],candidate.split())\n",
    "        bleu_scores.append(score)\n",
    "    return bleu_scores"
   ]
  },
  {
   "cell_type": "code",
   "execution_count": 89,
   "id": "8aeae149",
   "metadata": {},
   "outputs": [],
   "source": [
    "# df['Score']=bleu_scores(df)"
   ]
  },
  {
   "cell_type": "code",
   "execution_count": 90,
   "id": "4666fd11",
   "metadata": {},
   "outputs": [],
   "source": [
    "# average_scores = []\n",
    "# for i in range(0, len(df), 10):\n",
    "#     average_score = sum(df['Score'][i:i+10]) / 10\n",
    "#     average_scores.append(average_score)\n",
    "\n",
    "#average_scores"
   ]
  },
  {
   "cell_type": "code",
   "execution_count": 109,
   "id": "deb0707b",
   "metadata": {
    "scrolled": false
   },
   "outputs": [],
   "source": [
    "rouge = Rouge()\n",
    "def calculate_rouge_scores(data):\n",
    "    rouge_scores = []\n",
    "    for _, row in data.iterrows():\n",
    "        reference = row['Abstract']\n",
    "        candidate = row['Task Description']\n",
    "        score = rouge.get_scores(candidate, reference)\n",
    "        rouge_scores.append(score[0]['rouge-l']['f'])\n",
    "    return rouge_scores\n",
    "\n",
    "def avg_scores(data):\n",
    "    average_scores=[]\n",
    "    for i in range(0, len(data), 10):\n",
    "        average_score = sum(data['rouge'][i:i+10]) / 10\n",
    "        average_scores.append(average_score)\n",
    "    return average_scores"
   ]
  },
  {
   "cell_type": "code",
   "execution_count": 110,
   "id": "90acba03",
   "metadata": {},
   "outputs": [
    {
     "name": "stderr",
     "output_type": "stream",
     "text": [
      "/var/folders/q9/26n4cqmn2jq2ldd84q1459cm0000gn/T/ipykernel_21560/536545602.py:3: FutureWarning: The default value of numeric_only in DataFrame.mean is deprecated. In a future version, it will default to False. In addition, specifying 'numeric_only=None' is deprecated. Select only valid columns or specify the value of numeric_only to silence this warning.\n",
      "  df.mean()\n"
     ]
    },
    {
     "data": {
      "text/plain": [
       "rouge    0.305121\n",
       "dtype: float64"
      ]
     },
     "execution_count": 110,
     "metadata": {},
     "output_type": "execute_result"
    }
   ],
   "source": [
    "df['rouge']=calculate_rouge_scores(df)\n",
    "# avg_scores(df)\n",
    "df.mean()"
   ]
  },
  {
   "cell_type": "code",
   "execution_count": 111,
   "id": "f4c0e886",
   "metadata": {},
   "outputs": [
    {
     "name": "stderr",
     "output_type": "stream",
     "text": [
      "/var/folders/q9/26n4cqmn2jq2ldd84q1459cm0000gn/T/ipykernel_21560/817364737.py:4: FutureWarning: The default value of numeric_only in DataFrame.mean is deprecated. In a future version, it will default to False. In addition, specifying 'numeric_only=None' is deprecated. Select only valid columns or specify the value of numeric_only to silence this warning.\n",
      "  gpt.mean()\n"
     ]
    },
    {
     "data": {
      "text/plain": [
       "rouge    0.3496\n",
       "dtype: float64"
      ]
     },
     "execution_count": 111,
     "metadata": {},
     "output_type": "execute_result"
    }
   ],
   "source": [
    "gpt=pd.read_csv('GPT4.csv')\n",
    "gpt['rouge']=calculate_rouge_scores(gpt)\n",
    "#avg_scores(gpt)\n",
    "gpt.mean()"
   ]
  },
  {
   "cell_type": "code",
   "execution_count": 112,
   "id": "22f3b57c",
   "metadata": {},
   "outputs": [
    {
     "name": "stderr",
     "output_type": "stream",
     "text": [
      "/var/folders/q9/26n4cqmn2jq2ldd84q1459cm0000gn/T/ipykernel_21560/4201821741.py:4: FutureWarning: The default value of numeric_only in DataFrame.mean is deprecated. In a future version, it will default to False. In addition, specifying 'numeric_only=None' is deprecated. Select only valid columns or specify the value of numeric_only to silence this warning.\n",
      "  llama.mean()\n"
     ]
    },
    {
     "data": {
      "text/plain": [
       "rouge    0.198853\n",
       "dtype: float64"
      ]
     },
     "execution_count": 112,
     "metadata": {},
     "output_type": "execute_result"
    }
   ],
   "source": [
    "llama=pd.read_csv('llama.csv')\n",
    "llama['rouge']=calculate_rouge_scores(llama)\n",
    "#avg_scores(llama)\n",
    "llama.mean()"
   ]
  },
  {
   "cell_type": "code",
   "execution_count": 66,
   "id": "bf5fc2dc",
   "metadata": {},
   "outputs": [],
   "source": [
    "df_new=pd.DataFrame()\n",
    "df_new['Task']=[1,1,2,2,3,3,4,4,5,5,6,6,7,7,8,8,9,9,10,10]\n",
    "df_new['Chat']=['S','N','S','N','S','N','S','N','S','N','S','N','S','N','S','N','S','N','S','N']\n",
    "df_new['gpt4']=avg_scores(gpt)\n",
    "df_new['llama']=avg_scores(llama)\n",
    "df_new['bard']=avg_scores(df)"
   ]
  },
  {
   "cell_type": "code",
   "execution_count": 83,
   "id": "717c3e1e",
   "metadata": {},
   "outputs": [
    {
     "name": "stderr",
     "output_type": "stream",
     "text": [
      "/var/folders/q9/26n4cqmn2jq2ldd84q1459cm0000gn/T/ipykernel_21560/2327373324.py:1: FutureWarning: The default value of numeric_only in DataFrameGroupBy.mean is deprecated. In a future version, numeric_only will default to False. Either specify numeric_only or select only columns which should be valid for the function.\n",
      "  df_new.groupby(['Task']).mean().reset_index()\n"
     ]
    },
    {
     "data": {
      "text/html": [
       "<div>\n",
       "<style scoped>\n",
       "    .dataframe tbody tr th:only-of-type {\n",
       "        vertical-align: middle;\n",
       "    }\n",
       "\n",
       "    .dataframe tbody tr th {\n",
       "        vertical-align: top;\n",
       "    }\n",
       "\n",
       "    .dataframe thead th {\n",
       "        text-align: right;\n",
       "    }\n",
       "</style>\n",
       "<table border=\"1\" class=\"dataframe\">\n",
       "  <thead>\n",
       "    <tr style=\"text-align: right;\">\n",
       "      <th></th>\n",
       "      <th>Task</th>\n",
       "      <th>gpt4</th>\n",
       "      <th>llama</th>\n",
       "      <th>bard</th>\n",
       "    </tr>\n",
       "  </thead>\n",
       "  <tbody>\n",
       "    <tr>\n",
       "      <th>0</th>\n",
       "      <td>1</td>\n",
       "      <td>0.410249</td>\n",
       "      <td>0.268176</td>\n",
       "      <td>0.440933</td>\n",
       "    </tr>\n",
       "    <tr>\n",
       "      <th>1</th>\n",
       "      <td>2</td>\n",
       "      <td>0.284987</td>\n",
       "      <td>0.231465</td>\n",
       "      <td>0.308612</td>\n",
       "    </tr>\n",
       "    <tr>\n",
       "      <th>2</th>\n",
       "      <td>3</td>\n",
       "      <td>0.449719</td>\n",
       "      <td>0.234400</td>\n",
       "      <td>0.462115</td>\n",
       "    </tr>\n",
       "    <tr>\n",
       "      <th>3</th>\n",
       "      <td>4</td>\n",
       "      <td>0.471674</td>\n",
       "      <td>0.220878</td>\n",
       "      <td>0.232015</td>\n",
       "    </tr>\n",
       "    <tr>\n",
       "      <th>4</th>\n",
       "      <td>5</td>\n",
       "      <td>0.396009</td>\n",
       "      <td>0.224553</td>\n",
       "      <td>0.254280</td>\n",
       "    </tr>\n",
       "    <tr>\n",
       "      <th>5</th>\n",
       "      <td>6</td>\n",
       "      <td>0.411845</td>\n",
       "      <td>0.208642</td>\n",
       "      <td>0.253270</td>\n",
       "    </tr>\n",
       "    <tr>\n",
       "      <th>6</th>\n",
       "      <td>7</td>\n",
       "      <td>0.465466</td>\n",
       "      <td>0.244798</td>\n",
       "      <td>0.378070</td>\n",
       "    </tr>\n",
       "    <tr>\n",
       "      <th>7</th>\n",
       "      <td>8</td>\n",
       "      <td>0.148288</td>\n",
       "      <td>0.198326</td>\n",
       "      <td>0.153489</td>\n",
       "    </tr>\n",
       "    <tr>\n",
       "      <th>8</th>\n",
       "      <td>9</td>\n",
       "      <td>0.336746</td>\n",
       "      <td>0.205200</td>\n",
       "      <td>0.362972</td>\n",
       "    </tr>\n",
       "    <tr>\n",
       "      <th>9</th>\n",
       "      <td>10</td>\n",
       "      <td>0.358261</td>\n",
       "      <td>0.233612</td>\n",
       "      <td>0.428780</td>\n",
       "    </tr>\n",
       "  </tbody>\n",
       "</table>\n",
       "</div>"
      ],
      "text/plain": [
       "   Task      gpt4     llama      bard\n",
       "0     1  0.410249  0.268176  0.440933\n",
       "1     2  0.284987  0.231465  0.308612\n",
       "2     3  0.449719  0.234400  0.462115\n",
       "3     4  0.471674  0.220878  0.232015\n",
       "4     5  0.396009  0.224553  0.254280\n",
       "5     6  0.411845  0.208642  0.253270\n",
       "6     7  0.465466  0.244798  0.378070\n",
       "7     8  0.148288  0.198326  0.153489\n",
       "8     9  0.336746  0.205200  0.362972\n",
       "9    10  0.358261  0.233612  0.428780"
      ]
     },
     "execution_count": 83,
     "metadata": {},
     "output_type": "execute_result"
    }
   ],
   "source": [
    "df_new.groupby(['Task']).mean().reset_index()"
   ]
  },
  {
   "cell_type": "code",
   "execution_count": 84,
   "id": "37405b9b",
   "metadata": {},
   "outputs": [
    {
     "name": "stderr",
     "output_type": "stream",
     "text": [
      "/var/folders/q9/26n4cqmn2jq2ldd84q1459cm0000gn/T/ipykernel_21560/1212866955.py:1: FutureWarning: The default value of numeric_only in DataFrame.mean is deprecated. In a future version, it will default to False. In addition, specifying 'numeric_only=None' is deprecated. Select only valid columns or specify the value of numeric_only to silence this warning.\n",
      "  df_new.mean()\n"
     ]
    },
    {
     "data": {
      "text/plain": [
       "Task     5.500000\n",
       "gpt4     0.373324\n",
       "llama    0.227005\n",
       "bard     0.327453\n",
       "dtype: float64"
      ]
     },
     "execution_count": 84,
     "metadata": {},
     "output_type": "execute_result"
    }
   ],
   "source": [
    "df_new.mean()"
   ]
  },
  {
   "cell_type": "code",
   "execution_count": 77,
   "id": "3a11c2e8",
   "metadata": {},
   "outputs": [
    {
     "data": {
      "image/png": "[encoded data removed]",
      "text/plain": [
       "<Figure size 720x432 with 1 Axes>"
      ]
     },
     "metadata": {
      "needs_background": "light"
     },
     "output_type": "display_data"
    }
   ],
   "source": [
    "plt.figure(figsize=(10, 6))\n",
    "boxplot = df_new.boxplot(column=['gpt4', 'bard', 'llama'])\n",
    "plt.title('Comparison of Model Scores')\n",
    "plt.ylabel('Score')\n",
    "plt.show()"
   ]
  },
  {
   "cell_type": "code",
   "execution_count": 71,
   "id": "9eb3a2de",
   "metadata": {},
   "outputs": [
    {
     "name": "stderr",
     "output_type": "stream",
     "text": [
      "/var/folders/q9/26n4cqmn2jq2ldd84q1459cm0000gn/T/ipykernel_21560/3259771588.py:1: FutureWarning: The default value of numeric_only in DataFrame.mean is deprecated. In a future version, it will default to False. In addition, specifying 'numeric_only=None' is deprecated. Select only valid columns or specify the value of numeric_only to silence this warning.\n",
      "  df_new.mean(axis=0)\n"
     ]
    },
    {
     "data": {
      "text/plain": [
       "Task     5.500000\n",
       "gpt4     0.373324\n",
       "llama    0.227005\n",
       "bard     0.327453\n",
       "dtype: float64"
      ]
     },
     "execution_count": 71,
     "metadata": {},
     "output_type": "execute_result"
    }
   ],
   "source": [
    "df_new.mean(axis=0)"
   ]
  },
  {
   "cell_type": "code",
   "execution_count": 76,
   "id": "f29b5d55",
   "metadata": {},
   "outputs": [
    {
     "data": {
      "image/png": "[encoded data removed]",
      "text/plain": [
       "<Figure size 432x432 with 1 Axes>"
      ]
     },
     "metadata": {
      "needs_background": "light"
     },
     "output_type": "display_data"
    }
   ],
   "source": [
    "import matplotlib.pyplot as plt\n",
    "import seaborn as sns\n",
    "plt.figure(figsize=(6, 6))\n",
    "\n",
    "a=sns.boxplot(x='Task', y='gpt4', hue='Chat', data=df_new)\n",
    "#             palette=['violet', 'dodgerblue','lawngreen'], \n",
    "#               fliersize=0,boxprops={'edgecolor':('black'),'facecolor':(1,1,1,0)},zorder=5)\n",
    "\n",
    "# sns.stripplot(x='Task', y='Score', hue='LLM', data=df_new, \n",
    "#               palette=['violet', 'dodgerblue','lawngreen'], dodge=True, jitter=True, \n",
    "#               alpha=0.7, zorder=1, size=8)\n",
    "\n",
    "\n",
    "handles, labels = plt.gca().get_legend_handles_labels()\n",
    "\n",
    "# handles_new = [handles[0], handles[2] , handles[1]]\n",
    "# labels_new = [labels[0], 'Bard' , labels[1]]\n",
    "# plt.legend(handles_new, labels_new)\n",
    "a.set_ylim(3.5,10.5)\n",
    "\n",
    "#plt.savefig('math.png', bbox_inches='tight',dpi=300)\n",
    "plt.show()"
   ]
  },
  {
   "cell_type": "code",
   "execution_count": null,
   "id": "6efe1ce7",
   "metadata": {},
   "outputs": [],
   "source": []
  }
 ],
 "metadata": {
  "kernelspec": {
   "display_name": "Python 3 (ipykernel)",
   "language": "python",
   "name": "python3"
  },
  "language_info": {
   "codemirror_mode": {
    "name": "ipython",
    "version": 3
   },
   "file_extension": ".py",
   "mimetype": "text/x-python",
   "name": "python",
   "nbconvert_exporter": "python",
   "pygments_lexer": "ipython3",
   "version": "3.8.5"
  }
 },
 "nbformat": 4,
 "nbformat_minor": 5
}
